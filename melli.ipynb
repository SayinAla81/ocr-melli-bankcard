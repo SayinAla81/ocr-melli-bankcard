{
 "cells": [
  {
   "cell_type": "code",
   "execution_count": null,
   "metadata": {},
   "outputs": [],
   "source": [
    "import cv2\n",
    "import numpy as np\n",
    "import matplotlib.pyplot as plt\n",
    "import tensorflow as tf \n",
    "from tensorflow.keras import layers\n",
    "from tensorflow.keras.layers import *\n",
    "# from skimage.metrics import structural_similarity as ssim\n",
    "\n",
    "\n",
    "# Load the image\n",
    "image = cv2.imread(\"./IMG_20230709_212221.jpg\")\n",
    "\n",
    "# Convert the image to grayscale\n",
    "gray = cv2.cvtColor(image, cv2.COLOR_BGR2GRAY)\n",
    "# Apply adaptive thresholding to binarize the image\n",
    "plt.imshow(gray, cmap=\"gray\")\n"
   ]
  },
  {
   "cell_type": "code",
   "execution_count": 202,
   "metadata": {},
   "outputs": [],
   "source": [
    "def plotter(img_list, r, w, gray, wr, hr, fig_name = None):\n",
    "    '''\n",
    "    Plots images' list with its' caption and saves result image if you want.\n",
    "\n",
    "    Parameters:\n",
    "        img_list (list): The list of tuples of image and its' caption.\n",
    "        r (int): The number of row(s).\n",
    "        w (int): The number of colunm(s).\n",
    "        gray (bool): The flag for plotting images in grayscale mode.\n",
    "        wr (int): The width of one figure.\n",
    "        hr (int): The height of one figure.\n",
    "        fig_name (str): The name of the image of the plot. if not set this parameter the plot doesn't save.\n",
    "    '''\n",
    "    \n",
    "    plt.rcParams['figure.figsize'] = (wr, hr)\n",
    "    for i in range(len(img_list)):\n",
    "        plt.subplot(r, w, i + 1)\n",
    "        if img_list[i][2] == 'img':\n",
    "            if gray:\n",
    "                plt.imshow(img_list[i][0], cmap = 'gray')\n",
    "            else:\n",
    "                plt.imshow(img_list[i][0])\n",
    "            plt.xticks([])\n",
    "            plt.yticks([])\n",
    "        elif img_list[i][2] == 'hist':\n",
    "            plt.bar(np.arange(len(img_list[i][0])), img_list[i][0], color = 'c')\n",
    "        else:\n",
    "            raise Exception(\"Only image or histogram. Use third parameter of tuples in img_list and set it to img or hist.\")\n",
    "        plt.title(img_list[i][1])\n",
    "    if fig_name is not None:\n",
    "        plt.savefig(fig_name + '.png')\n",
    "    plt.show()"
   ]
  },
  {
   "cell_type": "code",
   "execution_count": null,
   "metadata": {},
   "outputs": [],
   "source": [
    "thresh = cv2.adaptiveThreshold(gray, 255, cv2.ADAPTIVE_THRESH_GAUSSIAN_C, cv2.THRESH_BINARY_INV, 21, 10)\n",
    "plt.imshow(thresh, cmap= \"gray\")"
   ]
  },
  {
   "cell_type": "code",
   "execution_count": null,
   "metadata": {},
   "outputs": [],
   "source": [
    "# Apply morphological operations to remove noise and fill gaps\n",
    "kernel = cv2.getStructuringElement(cv2.MORPH_RECT, (3,3))\n",
    "opening = cv2.morphologyEx(thresh, cv2.MORPH_OPEN, kernel, iterations=1)\n",
    "plt.imshow(opening, cmap= \"gray\")\n"
   ]
  },
  {
   "cell_type": "code",
   "execution_count": null,
   "metadata": {},
   "outputs": [],
   "source": [
    "closing = cv2.morphologyEx(opening, cv2.MORPH_CLOSE, kernel, iterations=1)\n",
    "plt.imshow(closing, cmap= \"gray\")"
   ]
  },
  {
   "cell_type": "code",
   "execution_count": 206,
   "metadata": {},
   "outputs": [],
   "source": [
    "# plt.imshow(kernel)\n",
    "# Find the contours of the document\n",
    "contours, hierarchy = cv2.findContours(closing, cv2.RETR_EXTERNAL, cv2.CHAIN_APPROX_SIMPLE)\n"
   ]
  },
  {
   "cell_type": "code",
   "execution_count": 207,
   "metadata": {},
   "outputs": [],
   "source": [
    "# Sort the contours by area and keep only the largest one\n",
    "contours = sorted(contours, key=cv2.contourArea, reverse=True)[:1]\n",
    "# plt.imshow(contours)\n"
   ]
  },
  {
   "cell_type": "code",
   "execution_count": 208,
   "metadata": {},
   "outputs": [
    {
     "data": {
      "image/png": "[encoded data removed]",
      "text/plain": [
       "<Figure size 2000x1000 with 1 Axes>"
      ]
     },
     "metadata": {},
     "output_type": "display_data"
    }
   ],
   "source": [
    "# Apply perspective transformation to \"straighten\" the image\n",
    "rect = cv2.minAreaRect(contours[0])\n",
    "box = cv2.boxPoints(rect)\n",
    "box = np.int0(box)\n",
    "width = int(rect[1][0])\n",
    "height = int(rect[1][1])\n",
    "src_pts = box.astype(\"float32\")\n",
    "dst_pts = np.array([[0, height-1],\n",
    "                    [0, 0],\n",
    "                    [width-1, 0],\n",
    "                    [width-1, height-1]], dtype=\"float32\")\n",
    "plt.imshow(dst_pts, cmap= \"gray\")\n",
    "M = cv2.getPerspectiveTransform(src_pts, dst_pts)\n"
   ]
  },
  {
   "cell_type": "code",
   "execution_count": null,
   "metadata": {},
   "outputs": [],
   "source": [
    "warped = cv2.warpPerspective(image, M, (width, height))\n",
    "if warped.shape[0]>warped.shape[1]:\n",
    "    warped=cv2.rotate(warped,cv2.ROTATE_90_CLOCKWISE)\n",
    "plt.imshow(warped, cmap= \"gray\")"
   ]
  },
  {
   "cell_type": "code",
   "execution_count": null,
   "metadata": {},
   "outputs": [],
   "source": [
    "# Apply image enhancement techniques to improve quality\n",
    "gray = cv2.cvtColor(warped, cv2.COLOR_BGR2GRAY)\n",
    "plt.imshow(gray, cmap= \"gray\")\n"
   ]
  },
  {
   "cell_type": "code",
   "execution_count": null,
   "metadata": {},
   "outputs": [],
   "source": [
    "blurred = cv2.GaussianBlur(gray, (5,5), 0)\n",
    "plt.imshow(blurred, cmap= \"gray\")\n"
   ]
  },
  {
   "cell_type": "code",
   "execution_count": null,
   "metadata": {},
   "outputs": [],
   "source": [
    "sharpened = cv2.addWeighted(gray, 1.5, blurred, -0.5, 0)\n",
    "plt.imshow(sharpened, cmap= \"gray\")"
   ]
  },
  {
   "cell_type": "code",
   "execution_count": null,
   "metadata": {},
   "outputs": [],
   "source": [
    "denoised = cv2.fastNlMeansDenoising(sharpened, None, 10, 7, 21)\n",
    "plt.imshow(denoised, cmap= \"gray\")"
   ]
  },
  {
   "cell_type": "code",
   "execution_count": null,
   "metadata": {},
   "outputs": [],
   "source": [
    "# Save the resulting image\n",
    "plt.imshow(denoised, cmap= \"gray\")\n",
    "# cv2.imwrite(\"output.jpg\", denoised)"
   ]
  },
  {
   "cell_type": "code",
   "execution_count": null,
   "metadata": {},
   "outputs": [],
   "source": [
    "result=cv2.adaptiveThreshold(denoised,255,cv2.ADAPTIVE_THRESH_GAUSSIAN_C,cv2.THRESH_BINARY_INV,21,10)\n",
    "plt.imshow(result, cmap= \"gray\")\n",
    "# cv2.imwrite(\"./Thresh.jpg\",result)"
   ]
  },
  {
   "cell_type": "code",
   "execution_count": 216,
   "metadata": {},
   "outputs": [],
   "source": [
    "# You need to choose 4 or 8 for connectivity type\n",
    "connectivity = 4 \n",
    "# Perform the operation\n",
    "output = cv2.connectedComponentsWithStats(result, connectivity, cv2.CV_32S)\n",
    "(numLabels, labels, stats, centroids) = output\n"
   ]
  },
  {
   "cell_type": "code",
   "execution_count": 217,
   "metadata": {},
   "outputs": [
    {
     "data": {
      "text/plain": [
       "<matplotlib.image.AxesImage at 0x1b08d8576d0>"
      ]
     },
     "execution_count": 217,
     "metadata": {},
     "output_type": "execute_result"
    },
    {
     "data": {
      "image/png": "[encoded data removed]",
      "text/plain": [
       "<Figure size 200x200 with 1 Axes>"
      ]
     },
     "metadata": {},
     "output_type": "display_data"
    }
   ],
   "source": [
    "templates=[]\n",
    "image_list=[]\n",
    "connectivity=8\n",
    "kernel = cv2.getStructuringElement(cv2.MORPH_RECT, (2,2))\n",
    "for i in range(10):\n",
    "    img1=cv2.imread(f\"./fatemplates/{i}.png\",cv2.IMREAD_GRAYSCALE)\n",
    "    for temp in [img1]:\n",
    "        temp=cv2.threshold(temp,128,255,cv2.THRESH_BINARY)[1]\n",
    "        erode = cv2.morphologyEx(temp, cv2.MORPH_ERODE, kernel, iterations=1)\n",
    "        dilate=cv2.morphologyEx(temp, cv2.MORPH_DILATE, kernel, iterations=1)\n",
    "        for t in [temp,erode,dilate]:\n",
    "            (numLabels_t, labels_t, stats_t, centroids_t)=cv2.connectedComponentsWithStats(t, connectivity, cv2.CV_32S)\n",
    "            (x,y,w,h,a)=stats_t[1]\n",
    "            templates.append(t[y:y+h,x:x+w])\n",
    "            image_list.append([t[y:y+h,x:x+w],f\"{i}\",\"img\"])\n",
    "plt.figure(figsize=(2,2))\n",
    "plt.imshow(templates[0], cmap= \"gray\")"
   ]
  },
  {
   "cell_type": "code",
   "execution_count": 218,
   "metadata": {},
   "outputs": [
    {
     "data": {
      "image/png": "[encoded data removed]",
      "text/plain": [
       "<Figure size 2000x1000 with 30 Axes>"
      ]
     },
     "metadata": {},
     "output_type": "display_data"
    }
   ],
   "source": [
    "plotter(image_list,1 , len(templates), True, 20, 10)"
   ]
  },
  {
   "cell_type": "code",
   "execution_count": null,
   "metadata": {},
   "outputs": [],
   "source": [
    "# stats = sorted(stats, key=lambda stat: stat[1])\n",
    "components = []\n",
    "output = result.copy()\n",
    "warped_copy = warped.copy()\n",
    "area = result.shape[0] * result.shape[1]\n",
    "kernel = cv2.getStructuringElement(cv2.MORPH_RECT, (1,2))\n",
    "for stat in stats:\n",
    "    (x, y, w, h, a) = stat\n",
    "    if a > area/100:\n",
    "        continue\n",
    "    if w < 5 or h < 5:\n",
    "        continue\n",
    "    done=False\n",
    "    values=[]\n",
    "    labels=[]\n",
    "    for num in range(len(templates)):\n",
    "        temp = templates[num].copy()\n",
    "        # TODO: for augmentation of temp\n",
    "        # if temp.shape[0]<h or temp.shape[1]<w:\n",
    "        temp = cv2.resize(temp, (w, h), interpolation=cv2.INTER_AREA)\n",
    "        crop=result[y:y+h, x:x+w].copy()\n",
    "        crop = cv2.morphologyEx(crop, cv2.MORPH_ERODE, kernel, iterations=1)\n",
    "        res = cv2.matchTemplate(\n",
    "            crop, temp, cv2.TM_CCOEFF_NORMED)\n",
    "        values.append(res[0,0])\n",
    "        labels.append(num //(len(templates)//10))\n",
    "    threshold = 0.4\n",
    "    index=np.argmax(values)\n",
    "    if(values[index]<threshold):\n",
    "        continue\n",
    "    # loc = np.where(res >= threshold)\n",
    "    # for pt in zip(*loc[::-1]):\n",
    "    cv2.rectangle(warped_copy, (x, y), (x + w, y + h), (255, 0, 0), 2)\n",
    "    components.append({\n",
    "        \"x\": x, \"y\": y, \"w\": w, \"h\": h, \"n\": labels[index]})  # x,y,w,h,num (label)\n",
    "        # break\n",
    "            \n",
    "plt.imshow(warped_copy, \"gray\")\n"
   ]
  },
  {
   "cell_type": "code",
   "execution_count": 220,
   "metadata": {},
   "outputs": [],
   "source": [
    "#sort\n",
    "threshold_y=15\n",
    "threshold_x=80\n",
    "lenn = len(components)\n",
    "for i in range(lenn):\n",
    "    for j in range(i + 1, lenn):\n",
    "        if components[i][\"y\"] > components[j][\"y\"] + threshold_y:\n",
    "            components[i], components[j] = components[j], components[i]\n",
    "        elif components[j][\"y\"] > components[i][\"y\"] + threshold_y:\n",
    "            pass\n",
    "        elif components[i][\"x\"] > components[j][\"x\"]:\n",
    "            components[i], components[j] = components[j], components[i]"
   ]
  },
  {
   "cell_type": "code",
   "execution_count": null,
   "metadata": {},
   "outputs": [],
   "source": [
    "numbers=[f\"{components[0]['n']}\"]\n",
    "\n",
    "for i in range(1,len(components)):\n",
    "    last=components[i-1]\n",
    "    comp=components[i]\n",
    "    if abs(comp[\"y\"]-last[\"y\"])<threshold_y:\n",
    "        if abs(comp[\"x\"]-last[\"x\"])<threshold_x:\n",
    "            numbers[-1]+=f\"{comp['n']}\"\n",
    "        else:\n",
    "            numbers.append(f\"{comp['n']}\")\n",
    "    else:\n",
    "        numbers.append(f\"{comp['n']}\")\n",
    "print(numbers)\n",
    "mark=0\n",
    "for num in numbers:\n",
    "    n=len(num)\n",
    "    if not mark and n>8:\n",
    "        print(f\"melli:{num}\")\n",
    "        mark=1\n",
    "    elif mark and n==8:\n",
    "        if mark==1:\n",
    "            print(f\"BD:{num[0:4]}/{num[4:6]}/{num[6:8]}\")\n",
    "        elif mark==2:\n",
    "            print(f\"expire:{num[0:4]}/{num[4:6]}/{num[6:8]}\")\n",
    "        else:\n",
    "            print(f\"zaed:{num[0:4]}/{num[4:6]}/{num[6:8]}\")\n",
    "        mark+=1\n",
    "    elif mark and( n==7 or n==6 or n==5):\n",
    "        if mark==1:\n",
    "            print(f\"BD:{num[:n-3]}/{num[n-2:]}\")\n",
    "        elif mark==2:\n",
    "            print(f\"expire:{num[:n-3]}/{num[n-2:]}\")\n",
    "        else:\n",
    "            print(f\"zaed:{num[:n-3]}/{num[n-2:]}\")\n",
    "        mark+=1\n",
    "    \n",
    "    "
   ]
  },
  {
   "cell_type": "code",
   "execution_count": 222,
   "metadata": {},
   "outputs": [],
   "source": [
    "from HodaDatasetReader import read_hoda_cdb, read_hoda_dataset\n",
    "x_train, y_train = read_hoda_dataset(dataset_path='./DigitDB/Train 60000.cdb',\n",
    "                                images_height=28,\n",
    "                                images_width=28,\n",
    "                                one_hot=False,\n",
    "                                reshape=False)\n",
    "x_train=(x_train*255).reshape(-1,28,28)\n",
    "x_test, y_test = read_hoda_dataset(dataset_path='./DigitDB/Test 20000.cdb',\n",
    "                              images_height=28,\n",
    "                              images_width=28,\n",
    "                              one_hot=False,\n",
    "                              reshape=False)\n",
    "x_test=(x_test*255).reshape(-1,28,28)\n"
   ]
  },
  {
   "cell_type": "code",
   "execution_count": 223,
   "metadata": {},
   "outputs": [
    {
     "name": "stdout",
     "output_type": "stream",
     "text": [
      "x_train : (60000, 28, 28)\n",
      "y_train : (60000,)\n",
      "x_test : (20000, 28, 28)\n",
      "y_test : (20000,)\n"
     ]
    }
   ],
   "source": [
    "print(f'x_train : {x_train.shape}')\n",
    "print(f'y_train : {y_train.shape}')\n",
    "print(f'x_test : {x_test.shape}')\n",
    "print(f'y_test : {y_test.shape}')"
   ]
  },
  {
   "cell_type": "code",
   "execution_count": 224,
   "metadata": {},
   "outputs": [
    {
     "data": {
      "image/png": "[encoded data removed]",
      "text/plain": [
       "<Figure size 1000x1000 with 9 Axes>"
      ]
     },
     "metadata": {},
     "output_type": "display_data"
    }
   ],
   "source": [
    "plt.figure(figsize=(10, 10))\n",
    "for i in range(9):\n",
    "    ax = plt.subplot(3, 3, i + 1)\n",
    "    plt.imshow(x_train[i].astype(\"uint8\"),cmap='gray')\n",
    "    plt.title(y_train[i])\n",
    "    plt.axis(\"off\")"
   ]
  },
  {
   "cell_type": "code",
   "execution_count": 225,
   "metadata": {},
   "outputs": [
    {
     "name": "stdout",
     "output_type": "stream",
     "text": [
      "y_train[0]: 6.0\n"
     ]
    }
   ],
   "source": [
    "print(f'y_train[0]: {y_train[0]}')"
   ]
  },
  {
   "cell_type": "code",
   "execution_count": 226,
   "metadata": {},
   "outputs": [
    {
     "data": {
      "text/plain": [
       "<matplotlib.image.AxesImage at 0x1b060cb9d50>"
      ]
     },
     "execution_count": 226,
     "metadata": {},
     "output_type": "execute_result"
    },
    {
     "data": {
      "image/png": "[encoded data removed]",
      "text/plain": [
       "<Figure size 2000x1000 with 1 Axes>"
      ]
     },
     "metadata": {},
     "output_type": "display_data"
    }
   ],
   "source": [
    "t=x_train[0].astype(\"uint8\")\n",
    "plt.imshow(t,\"gray\")"
   ]
  },
  {
   "cell_type": "code",
   "execution_count": 227,
   "metadata": {},
   "outputs": [
    {
     "data": {
      "image/png": "[encoded data removed]",
      "text/plain": [
       "<Figure size 2000x1000 with 1 Axes>"
      ]
     },
     "metadata": {},
     "output_type": "display_data"
    }
   ],
   "source": [
    "for i in range(len(x_train)):\n",
    "    t=x_train[i].astype(\"uint8\")\n",
    "    t=cv2.threshold(t,128,255,cv2.THRESH_BINARY)[1]\n",
    "    if i==0:\n",
    "        plt.imshow(t,\"gray\")\n",
    "    (numLabels_t,labels_t, stats_t, centroids_t)=cv2.connectedComponentsWithStats(t, connectivity, cv2.CV_32S)\n",
    "    (x,y,w,h,a)=stats_t[1]\n",
    "    x_train[i]=cv2.resize(t[y:y+h,x:x+w], (28, 28), interpolation=cv2.INTER_AREA)\n",
    "for i in range(len(x_test)):\n",
    "    t=x_test[i].astype(\"uint8\")\n",
    "    t=cv2.threshold(t,128,255,cv2.THRESH_BINARY)[1]\n",
    "    (numLabels_t,labels_t, stats_t, centroids_t)=cv2.connectedComponentsWithStats(t, connectivity, cv2.CV_8U)\n",
    "    (x,y,w,h,a)=stats_t[1]\n",
    "    x_test[i]=cv2.resize(t[y:y+h,x:x+w], (28, 28), interpolation=cv2.INTER_AREA)\n",
    "x_train = x_train/ 255.0\n",
    "x_test = x_test / 255.0\n",
    "x_train=x_train.reshape(-1, 28, 28, 1)\n",
    "x_test=x_test.reshape(-1, 28, 28, 1)"
   ]
  },
  {
   "cell_type": "code",
   "execution_count": 228,
   "metadata": {},
   "outputs": [],
   "source": [
    "from keras.layers import Input, Dense, Conv2D, MaxPooling2D, Flatten, Reshape,Softmax\n",
    "from keras.models import Model, load_model,Sequential\n",
    "import os\n",
    "loaded=False\n",
    "if os.path.isfile(\"modelHoda.h5\"):\n",
    "    seq_model= load_model('modelHoda.h5')\n",
    "    loaded=True\n",
    "else:\n",
    "    seq_model = Sequential()\n",
    "    seq_model.add(Input(shape= (28,28)))\n",
    "    seq_model.add(Flatten())\n",
    "    seq_model.add(Dense(units=128, activation='relu'))\n",
    "    seq_model.add(Dense(units=10))"
   ]
  },
  {
   "cell_type": "code",
   "execution_count": 229,
   "metadata": {},
   "outputs": [
    {
     "name": "stdout",
     "output_type": "stream",
     "text": [
      "Model: \"sequential_4\"\n",
      "_________________________________________________________________\n",
      " Layer (type)                Output Shape              Param #   \n",
      "=================================================================\n",
      " flatten (Flatten)           (None, 784)               0         \n",
      "                                                                 \n",
      " dense (Dense)               (None, 128)               100480    \n",
      "                                                                 \n",
      " dense_1 (Dense)             (None, 10)                1290      \n",
      "                                                                 \n",
      "=================================================================\n",
      "Total params: 101,770\n",
      "Trainable params: 101,770\n",
      "Non-trainable params: 0\n",
      "_________________________________________________________________\n"
     ]
    }
   ],
   "source": [
    "seq_model.summary()"
   ]
  },
  {
   "cell_type": "code",
   "execution_count": 230,
   "metadata": {},
   "outputs": [],
   "source": [
    "if not loaded:\n",
    "    seq_model.compile(optimizer='adam',\n",
    "              loss=tf.keras.losses.SparseCategoricalCrossentropy(from_logits=True),\n",
    "              metrics=['accuracy'])"
   ]
  },
  {
   "cell_type": "code",
   "execution_count": 231,
   "metadata": {},
   "outputs": [],
   "source": [
    "if not loaded:\n",
    "    history = seq_model.fit(x_train, y_train, epochs=10)"
   ]
  },
  {
   "cell_type": "code",
   "execution_count": 232,
   "metadata": {},
   "outputs": [],
   "source": [
    "import os\n",
    "if not os.path.isfile(\"modelHoda.h5\"):\n",
    "    seq_model.save(\"modelHoda.h5\")"
   ]
  },
  {
   "cell_type": "code",
   "execution_count": 233,
   "metadata": {},
   "outputs": [],
   "source": [
    "if not loaded:\n",
    "    plt.plot(history.history['loss'])\n",
    "    plt.title('Training loss')\n",
    "    plt.xlabel('Epoch')\n",
    "    plt.ylabel('loss')\n",
    "    plt.show()"
   ]
  },
  {
   "cell_type": "code",
   "execution_count": 234,
   "metadata": {},
   "outputs": [
    {
     "name": "stdout",
     "output_type": "stream",
     "text": [
      "625/625 - 1s - loss: 0.1354 - accuracy: 0.9677 - 1s/epoch - 2ms/step\n",
      "\n",
      "Test accuracy: 0.9677000045776367\n"
     ]
    }
   ],
   "source": [
    "test_loss, test_acc = seq_model.evaluate(x_test,  y_test, verbose=2)\n",
    "\n",
    "print('\\nTest accuracy:', test_acc)"
   ]
  },
  {
   "cell_type": "code",
   "execution_count": 235,
   "metadata": {},
   "outputs": [],
   "source": [
    "probability_model = tf.keras.Sequential([seq_model, Softmax()])"
   ]
  },
  {
   "cell_type": "code",
   "execution_count": 236,
   "metadata": {},
   "outputs": [
    {
     "name": "stdout",
     "output_type": "stream",
     "text": [
      "625/625 [==============================] - 1s 2ms/step\n"
     ]
    }
   ],
   "source": [
    "y_pred = probability_model.predict(x_test)"
   ]
  },
  {
   "cell_type": "code",
   "execution_count": 237,
   "metadata": {},
   "outputs": [
    {
     "name": "stdout",
     "output_type": "stream",
     "text": [
      "label : 0\n"
     ]
    },
    {
     "data": {
      "image/png": "[encoded data removed]",
      "text/plain": [
       "<Figure size 2000x1000 with 1 Axes>"
      ]
     },
     "metadata": {},
     "output_type": "display_data"
    }
   ],
   "source": [
    "plt.imshow(x_test[0],cmap='gray')\n",
    "label = np.argmax(y_pred[0])\n",
    "print(f'label : {label}')"
   ]
  },
  {
   "cell_type": "code",
   "execution_count": null,
   "metadata": {},
   "outputs": [],
   "source": [
    "components = []\n",
    "output = result.copy()\n",
    "warped_copy = warped.copy()\n",
    "area = result.shape[0] * result.shape[1]\n",
    "kernel = cv2.getStructuringElement(cv2.MORPH_RECT, (1,2))\n",
    "for stat in stats:\n",
    "    (x, y, w, h, a) = stat\n",
    "    if a > area/100:\n",
    "        continue\n",
    "    if w < 8 or h < 8:\n",
    "        continue\n",
    "    done=False\n",
    "    crop=result[y:y+h, x:x+w].copy()\n",
    "    crop=cv2.resize(crop, (28, 28), interpolation=cv2.INTER_AREA).reshape(-1, 28, 28, 1)\n",
    "    pred_res=seq_model.predict(crop,verbose=0)\n",
    "    threshold=700\n",
    "    if(np.max(pred_res)<threshold):\n",
    "        continue\n",
    "    label_res=probability_model.predict(crop,verbose=0)[0]\n",
    "    cv2.rectangle(warped_copy, (x, y), (x + w, y + h), (255, 0, 0), 2)\n",
    "    components.append({\n",
    "        \"x\": x, \"y\": y, \"w\": w, \"h\": h, \"n\": np.argmax(label_res)})  # x,y,w,h,num (label)\n",
    "        # break\n",
    "plt.imshow(warped_copy)"
   ]
  },
  {
   "cell_type": "code",
   "execution_count": 239,
   "metadata": {},
   "outputs": [],
   "source": [
    "\n",
    "threshold_y=30\n",
    "threshold_x=80\n",
    "lenn = len(components)\n",
    "for i in range(lenn):\n",
    "    for j in range(i + 1, lenn):\n",
    "        if components[i][\"y\"] > components[j][\"y\"] + threshold_y:\n",
    "            components[i], components[j] = components[j], components[i]\n",
    "        elif components[j][\"y\"] > components[i][\"y\"] + threshold_y:\n",
    "            pass\n",
    "        elif components[i][\"x\"] > components[j][\"x\"]:\n",
    "            components[i], components[j] = components[j], components[i]"
   ]
  },
  {
   "cell_type": "code",
   "execution_count": null,
   "metadata": {},
   "outputs": [],
   "source": [
    "numbers=[f\"{components[0]['n']}\"]\n",
    "\n",
    "for i in range(1,len(components)):\n",
    "    last=components[i-1]\n",
    "    comp=components[i]\n",
    "    if abs(comp[\"y\"]-last[\"y\"])<threshold_y:\n",
    "        if abs(comp[\"x\"]-last[\"x\"])<threshold_x:\n",
    "            numbers[-1]+=f\"{comp['n']}\"\n",
    "        else:\n",
    "            numbers.append(f\"{comp['n']}\")\n",
    "    else:\n",
    "        numbers.append(f\"{comp['n']}\")\n",
    "print(numbers)\n",
    "mark=0\n",
    "for num in numbers:\n",
    "    n=len(num)\n",
    "    if not mark and n>8:\n",
    "        print(f\"melli:{num}\")\n",
    "        mark=1\n",
    "    elif mark and n==10:\n",
    "        if mark==1:\n",
    "            print(f\"BD:{num[0:4]}/{num[5:7]}/{num[8:10]}\")\n",
    "        elif mark==2:\n",
    "            print(f\"expire:{num[0:4]}/{num[5:7]}/{num[8:10]}\")\n",
    "        else:\n",
    "            print(f\"zaed:{num[0:4]}/{num[5:7]}/{num[8:10]}\")\n",
    "        mark+=1\n",
    "    elif mark and n==8:\n",
    "        if mark==1:\n",
    "            print(f\"BD:{num[0:4]}/{num[4:6]}/{num[6:8]}\")\n",
    "        elif mark==2:\n",
    "            print(f\"expire:{num[0:4]}/{num[4:6]}/{num[6:8]}\")\n",
    "        else:\n",
    "            print(f\"zaed:{num[0:4]}/{num[4:6]}/{num[6:8]}\")\n",
    "        mark+=1\n",
    "    # elif mark and( n==7 or n==6 or n==5):\n",
    "    #     if mark==1:\n",
    "    #         print(f\"BD:{num[:n-3]}/{num[n-2:]}\")\n",
    "    #     elif mark==2:\n",
    "    #         print(f\"expire:{num[:n-3]}/{num[n-2:]}\")\n",
    "    #     else:\n",
    "    #         print(f\"zaed:{num[:n-3]}/{num[n-2:]}\")\n",
    "    #     mark+=1\n",
    "    "
   ]
  }
 ],
 "metadata": {
  "kernelspec": {
   "display_name": "Python 3.10.2 64-bit",
   "language": "python",
   "name": "python3"
  },
  "language_info": {
   "codemirror_mode": {
    "name": "ipython",
    "version": 3
   },
   "file_extension": ".py",
   "mimetype": "text/x-python",
   "name": "python",
   "nbconvert_exporter": "python",
   "pygments_lexer": "ipython3",
   "version": "3.10.4"
  },
  "orig_nbformat": 4,
  "vscode": {
   "interpreter": {
    "hash": "c78716219da601d2a2dd0e5bc8e59f25a83fecba9c1438c5b5a7fc2ac5964870"
   }
  }
 },
 "nbformat": 4,
 "nbformat_minor": 2
}
